{
 "cells": [
  {
   "cell_type": "markdown",
   "metadata": {},
   "source": [
    "# VacationPy "
   ]
  },
  {
   "cell_type": "markdown",
   "metadata": {},
   "source": [
    "#### Note"
   ]
  },
  {
   "cell_type": "code",
   "execution_count": 1,
   "metadata": {},
   "outputs": [],
   "source": [
    "# Dependencies and Setup\n",
    "import matplotlib.pyplot as plt\n",
    "import pandas as pd\n",
    "import numpy as np\n",
    "import requests\n",
    "import gmaps\n",
    "import os\n",
    "import json\n",
    "\n",
    "from google_config import gkey"
   ]
  },
  {
   "cell_type": "markdown",
   "metadata": {},
   "source": [
    "### Store Part I results into DataFrame"
   ]
  },
  {
   "cell_type": "code",
   "execution_count": 2,
   "metadata": {},
   "outputs": [
    {
     "data": {
      "text/html": [
       "<div>\n",
       "<style scoped>\n",
       "    .dataframe tbody tr th:only-of-type {\n",
       "        vertical-align: middle;\n",
       "    }\n",
       "\n",
       "    .dataframe tbody tr th {\n",
       "        vertical-align: top;\n",
       "    }\n",
       "\n",
       "    .dataframe thead th {\n",
       "        text-align: right;\n",
       "    }\n",
       "</style>\n",
       "<table border=\"1\" class=\"dataframe\">\n",
       "  <thead>\n",
       "    <tr style=\"text-align: right;\">\n",
       "      <th></th>\n",
       "      <th>City ID</th>\n",
       "      <th>City</th>\n",
       "      <th>Cloudiness</th>\n",
       "      <th>Country</th>\n",
       "      <th>Date</th>\n",
       "      <th>Humidity</th>\n",
       "      <th>Lat</th>\n",
       "      <th>Lng</th>\n",
       "      <th>Max Temp</th>\n",
       "      <th>Wind Speed</th>\n",
       "    </tr>\n",
       "  </thead>\n",
       "  <tbody>\n",
       "    <tr>\n",
       "      <td>0</td>\n",
       "      <td>0</td>\n",
       "      <td>Punta Arenas</td>\n",
       "      <td>40</td>\n",
       "      <td>CL</td>\n",
       "      <td>1585187951</td>\n",
       "      <td>71</td>\n",
       "      <td>-53.15</td>\n",
       "      <td>-70.92</td>\n",
       "      <td>55.40</td>\n",
       "      <td>17.22</td>\n",
       "    </tr>\n",
       "    <tr>\n",
       "      <td>1</td>\n",
       "      <td>1</td>\n",
       "      <td>Rūjiena</td>\n",
       "      <td>0</td>\n",
       "      <td>LV</td>\n",
       "      <td>1585188143</td>\n",
       "      <td>87</td>\n",
       "      <td>57.90</td>\n",
       "      <td>25.33</td>\n",
       "      <td>32.32</td>\n",
       "      <td>8.84</td>\n",
       "    </tr>\n",
       "    <tr>\n",
       "      <td>2</td>\n",
       "      <td>2</td>\n",
       "      <td>Port Alfred</td>\n",
       "      <td>90</td>\n",
       "      <td>ZA</td>\n",
       "      <td>1585188060</td>\n",
       "      <td>59</td>\n",
       "      <td>-33.59</td>\n",
       "      <td>26.89</td>\n",
       "      <td>64.74</td>\n",
       "      <td>33.40</td>\n",
       "    </tr>\n",
       "    <tr>\n",
       "      <td>3</td>\n",
       "      <td>3</td>\n",
       "      <td>Dikson</td>\n",
       "      <td>100</td>\n",
       "      <td>RU</td>\n",
       "      <td>1585188067</td>\n",
       "      <td>97</td>\n",
       "      <td>73.51</td>\n",
       "      <td>80.55</td>\n",
       "      <td>21.78</td>\n",
       "      <td>22.70</td>\n",
       "    </tr>\n",
       "    <tr>\n",
       "      <td>4</td>\n",
       "      <td>4</td>\n",
       "      <td>Rikitea</td>\n",
       "      <td>100</td>\n",
       "      <td>PF</td>\n",
       "      <td>1585188058</td>\n",
       "      <td>76</td>\n",
       "      <td>-23.12</td>\n",
       "      <td>-134.97</td>\n",
       "      <td>78.84</td>\n",
       "      <td>5.35</td>\n",
       "    </tr>\n",
       "  </tbody>\n",
       "</table>\n",
       "</div>"
      ],
      "text/plain": [
       "   City ID          City  Cloudiness Country        Date  Humidity    Lat  \\\n",
       "0        0  Punta Arenas          40      CL  1585187951        71 -53.15   \n",
       "1        1       Rūjiena           0      LV  1585188143        87  57.90   \n",
       "2        2   Port Alfred          90      ZA  1585188060        59 -33.59   \n",
       "3        3        Dikson         100      RU  1585188067        97  73.51   \n",
       "4        4       Rikitea         100      PF  1585188058        76 -23.12   \n",
       "\n",
       "      Lng  Max Temp  Wind Speed  \n",
       "0  -70.92     55.40       17.22  \n",
       "1   25.33     32.32        8.84  \n",
       "2   26.89     64.74       33.40  \n",
       "3   80.55     21.78       22.70  \n",
       "4 -134.97     78.84        5.35  "
      ]
     },
     "execution_count": 2,
     "metadata": {},
     "output_type": "execute_result"
    }
   ],
   "source": [
    "df = pd.read_csv(\"cities.csv\")\n",
    "df.head()"
   ]
  },
  {
   "cell_type": "markdown",
   "metadata": {},
   "source": [
    "### Humidity Heatmap"
   ]
  },
  {
   "cell_type": "code",
   "execution_count": 11,
   "metadata": {},
   "outputs": [
    {
     "data": {
      "application/vnd.jupyter.widget-view+json": {
       "model_id": "2cdfade0b29c4ed7a80383bddee544d9",
       "version_major": 2,
       "version_minor": 0
      },
      "text/plain": [
       "Figure(layout=FigureLayout(border='1px solid black', height='480px', margin='0 auto 0 auto', padding='1px', wi…"
      ]
     },
     "metadata": {},
     "output_type": "display_data"
    }
   ],
   "source": [
    "gmaps.configure(api_key=gkey)\n",
    "# Customize window.\n",
    "figure_layout = {\n",
    "    'width':\"720px\",\n",
    "    \"height\": \"480px\",\n",
    "    \"border\": \"1px solid black\",\n",
    "    \"padding\": \"1px\",\n",
    "    \"margin\": \"0 auto 0 auto\"\n",
    "}\n",
    "fig = gmaps.figure(layout = figure_layout)\n",
    "# Store locations\n",
    "locations = df[[\"Lat\", \"Lng\"]]\n",
    "# Store humidity values\n",
    "humidity_df = df[\"Humidity\"]\n",
    "heat_layer = gmaps.heatmap_layer(locations=locations, weights=humidity_df, \n",
    "                                 dissipating=True, max_intensity=df[\"Humidity\"].max(), point_radius=10)\n",
    "fig.add_layer(heat_layer)\n",
    "fig"
   ]
  },
  {
   "cell_type": "markdown",
   "metadata": {},
   "source": [
    "### Create new DataFrame fitting weather criteria"
   ]
  },
  {
   "cell_type": "code",
   "execution_count": 10,
   "metadata": {},
   "outputs": [],
   "source": [
    "ideal_df = df.loc[(df[\"Max Temp\"] > 60) & (df[\"Max Temp\"] < 85) & \n",
    "                  (df[\"Wind Speed\"] > 10) & (df[\"Cloudiness\"] < 50) \n",
    "                 & (df[\"Humidity\"] < 70)].reset_index()"
   ]
  },
  {
   "cell_type": "markdown",
   "metadata": {},
   "source": [
    "### Hotel Map "
   ]
  },
  {
   "cell_type": "code",
   "execution_count": 5,
   "metadata": {},
   "outputs": [],
   "source": [
    "place_url = \"https://maps.googleapis.com/maps/api/place/nearbysearch/json\"\n",
    "geo_url =  'https://maps.googleapis.com/maps/api/geocode/json'"
   ]
  },
  {
   "cell_type": "code",
   "execution_count": 6,
   "metadata": {},
   "outputs": [],
   "source": [
    "hotel_name = []\n",
    "hotel_city = []\n",
    "hotel_country = []\n",
    "hotel_lat = []\n",
    "hotel_lng = []\n",
    "\n",
    "for index, row in ideal_df.iterrows():\n",
    "    lat = row[\"Lat\"]\n",
    "    lng = row[\"Lng\"]\n",
    "    location = str(lat) + \", \" + str(lng)\n",
    "    params_place = {'key':gkey\n",
    "             ,'location':location,\n",
    "              \"radius\":5000,\n",
    "              \"type\":\"hotel\",\n",
    "              \"keyword\":\"hotel\"\n",
    "             }\n",
    "    params_geo = {'key':gkey\n",
    "                  ,'address':location}\n",
    "    try:\n",
    "        response_place = requests.get(place_url, params=params_place).json()\n",
    "        hotel_lat.append(response_place[\"results\"][0][\"geometry\"][\"location\"][\"lat\"])\n",
    "        hotel_lng.append(response_place[\"results\"][0][\"geometry\"][\"location\"][\"lng\"])\n",
    "        hotel_name.append(response_place[\"results\"][0][\"name\"])\n",
    "\n",
    "    except:\n",
    "        hotel_lat.append(np.nan)\n",
    "        hotel_lng.append(np.nan)\n",
    "        hotel_name.append(np.nan)\n",
    "    try:\n",
    "        response_geo = requests.get(geo_url, params=params_geo).json()\n",
    "        hotel_city.append(response_geo[\"results\"][0][\"address_components\"][4][\"long_name\"])\n",
    "    except:\n",
    "        hotel_city.append(np.nan)\n",
    "    try:\n",
    "        response_geo = requests.get(geo_url, params=params_geo).json()\n",
    "        hotel_country.append(response_geo[\"results\"][0][\"address_components\"][5][\"long_name\"])\n",
    "    except:\n",
    "        hotel_country.append(np.nan)"
   ]
  },
  {
   "cell_type": "code",
   "execution_count": 7,
   "metadata": {},
   "outputs": [
    {
     "data": {
      "text/html": [
       "<div>\n",
       "<style scoped>\n",
       "    .dataframe tbody tr th:only-of-type {\n",
       "        vertical-align: middle;\n",
       "    }\n",
       "\n",
       "    .dataframe tbody tr th {\n",
       "        vertical-align: top;\n",
       "    }\n",
       "\n",
       "    .dataframe thead th {\n",
       "        text-align: right;\n",
       "    }\n",
       "</style>\n",
       "<table border=\"1\" class=\"dataframe\">\n",
       "  <thead>\n",
       "    <tr style=\"text-align: right;\">\n",
       "      <th></th>\n",
       "      <th>Hotel Name</th>\n",
       "      <th>Lat</th>\n",
       "      <th>Lng</th>\n",
       "      <th>Country</th>\n",
       "      <th>City</th>\n",
       "    </tr>\n",
       "  </thead>\n",
       "  <tbody>\n",
       "    <tr>\n",
       "      <td>3</td>\n",
       "      <td>OYO Hotel Miami Acapulco</td>\n",
       "      <td>16.857559</td>\n",
       "      <td>-99.895042</td>\n",
       "      <td>Mexico</td>\n",
       "      <td>Guerrero</td>\n",
       "    </tr>\n",
       "    <tr>\n",
       "      <td>4</td>\n",
       "      <td>Red Lion Hotel &amp; Conference Center St. George</td>\n",
       "      <td>37.093510</td>\n",
       "      <td>-113.586869</td>\n",
       "      <td>United States</td>\n",
       "      <td>Utah</td>\n",
       "    </tr>\n",
       "    <tr>\n",
       "      <td>6</td>\n",
       "      <td>Mercure Alice Springs Resort</td>\n",
       "      <td>-23.702999</td>\n",
       "      <td>133.886497</td>\n",
       "      <td>Australia</td>\n",
       "      <td>Northern Territory</td>\n",
       "    </tr>\n",
       "    <tr>\n",
       "      <td>7</td>\n",
       "      <td>Mojo Hotel</td>\n",
       "      <td>-33.919248</td>\n",
       "      <td>18.385941</td>\n",
       "      <td>Western Cape</td>\n",
       "      <td>Cape Town</td>\n",
       "    </tr>\n",
       "    <tr>\n",
       "      <td>9</td>\n",
       "      <td>Courtyard by Marriott Maui Kahului Airport</td>\n",
       "      <td>20.888382</td>\n",
       "      <td>-156.449614</td>\n",
       "      <td>United States</td>\n",
       "      <td>Hawaii</td>\n",
       "    </tr>\n",
       "    <tr>\n",
       "      <td>14</td>\n",
       "      <td>Estepa Hotel</td>\n",
       "      <td>-39.029185</td>\n",
       "      <td>-67.576158</td>\n",
       "      <td>Argentina</td>\n",
       "      <td>Río Negro</td>\n",
       "    </tr>\n",
       "    <tr>\n",
       "      <td>17</td>\n",
       "      <td>My Place Hotel - North Las Vegas, NV</td>\n",
       "      <td>36.241361</td>\n",
       "      <td>-115.124610</td>\n",
       "      <td>United States</td>\n",
       "      <td>Nevada</td>\n",
       "    </tr>\n",
       "    <tr>\n",
       "      <td>20</td>\n",
       "      <td>Hotel Boston</td>\n",
       "      <td>-34.722409</td>\n",
       "      <td>135.865463</td>\n",
       "      <td>Australia</td>\n",
       "      <td>South Australia</td>\n",
       "    </tr>\n",
       "    <tr>\n",
       "      <td>22</td>\n",
       "      <td>Hotel Laja Real</td>\n",
       "      <td>8.127362</td>\n",
       "      <td>-63.536800</td>\n",
       "      <td>Venezuela</td>\n",
       "      <td>Bolívar</td>\n",
       "    </tr>\n",
       "  </tbody>\n",
       "</table>\n",
       "</div>"
      ],
      "text/plain": [
       "                                       Hotel Name        Lat         Lng  \\\n",
       "3                        OYO Hotel Miami Acapulco  16.857559  -99.895042   \n",
       "4   Red Lion Hotel & Conference Center St. George  37.093510 -113.586869   \n",
       "6                    Mercure Alice Springs Resort -23.702999  133.886497   \n",
       "7                                      Mojo Hotel -33.919248   18.385941   \n",
       "9      Courtyard by Marriott Maui Kahului Airport  20.888382 -156.449614   \n",
       "14                                   Estepa Hotel -39.029185  -67.576158   \n",
       "17           My Place Hotel - North Las Vegas, NV  36.241361 -115.124610   \n",
       "20                                   Hotel Boston -34.722409  135.865463   \n",
       "22                                Hotel Laja Real   8.127362  -63.536800   \n",
       "\n",
       "          Country                City  \n",
       "3          Mexico            Guerrero  \n",
       "4   United States                Utah  \n",
       "6       Australia  Northern Territory  \n",
       "7    Western Cape           Cape Town  \n",
       "9   United States              Hawaii  \n",
       "14      Argentina           Río Negro  \n",
       "17  United States              Nevada  \n",
       "20      Australia     South Australia  \n",
       "22      Venezuela             Bolívar  "
      ]
     },
     "execution_count": 7,
     "metadata": {},
     "output_type": "execute_result"
    }
   ],
   "source": [
    "hotel_dir = {\"Hotel Name\":hotel_name, \"Lat\":hotel_lat, \n",
    "             \"Lng\": hotel_lng, \"Country\":hotel_country,\n",
    "             \"City\":hotel_city\n",
    "            }\n",
    "hotel_df = pd.DataFrame(hotel_dir).dropna()     \n",
    "hotel_df = hotel_df[~hotel_df['Country'].str.contains('^\\d+$')]\n",
    "hotel_df"
   ]
  },
  {
   "cell_type": "code",
   "execution_count": 13,
   "metadata": {},
   "outputs": [],
   "source": [
    "gmaps.configure(api_key=gkey)\n",
    "# Customize window.\n",
    "figure_layout = {\n",
    "    'width':\"720px\",\n",
    "    \"height\": \"480px\",\n",
    "    \"border\": \"1px solid black\",\n",
    "    \"padding\": \"1px\",\n",
    "    \"margin\": \"0 auto 0 auto\"\n",
    "}\n",
    "fig = gmaps.figure(layout = figure_layout)\n",
    "# Store locations\n",
    "locations = df[[\"Lat\", \"Lng\"]]\n",
    "# Store humidity values\n",
    "humidity_df = df[\"Humidity\"]\n",
    "heat_layer = gmaps.heatmap_layer(locations=locations, weights=humidity_df, \n",
    "                                 dissipating=True, max_intensity=df[\"Humidity\"].max(), point_radius=10)\n",
    "fig.add_layer(heat_layer)\n",
    "# NOTE: Do not change any of the code in this cell\n",
    "\n",
    "# Using the template add the hotel marks to the heatmap\n",
    "info_box_template = \"\"\"\n",
    "<dl>\n",
    "<dt>Name</dt><dd>{Hotel Name}</dd>\n",
    "<dt>City</dt><dd>{City}</dd>\n",
    "<dt>Country</dt><dd>{Country}</dd>\n",
    "</dl>\n",
    "\"\"\"\n",
    "# Store the DataFrame Row\n",
    "# NOTE: be sure to update with your DataFrame name\n",
    "hotel_info = [info_box_template.format(**row) for index, row in hotel_df.iterrows()]\n",
    "locations = hotel_df[[\"Lat\", \"Lng\"]]\n",
    "markers = gmaps.marker_layer(locations, info_box_content=hotel_info)"
   ]
  },
  {
   "cell_type": "code",
   "execution_count": 14,
   "metadata": {},
   "outputs": [
    {
     "data": {
      "application/vnd.jupyter.widget-view+json": {
       "model_id": "7085c673a4a7464e9389c2fffa15c97e",
       "version_major": 2,
       "version_minor": 0
      },
      "text/plain": [
       "Figure(layout=FigureLayout(border='1px solid black', height='480px', margin='0 auto 0 auto', padding='1px', wi…"
      ]
     },
     "metadata": {},
     "output_type": "display_data"
    }
   ],
   "source": [
    "fig.add_layer(markers)\n",
    "fig"
   ]
  },
  {
   "cell_type": "code",
   "execution_count": null,
   "metadata": {},
   "outputs": [],
   "source": []
  },
  {
   "cell_type": "code",
   "execution_count": null,
   "metadata": {},
   "outputs": [],
   "source": []
  },
  {
   "cell_type": "code",
   "execution_count": null,
   "metadata": {},
   "outputs": [],
   "source": []
  }
 ],
 "metadata": {
  "kernelspec": {
   "display_name": "Python 3",
   "language": "python",
   "name": "python3"
  },
  "language_info": {
   "codemirror_mode": {
    "name": "ipython",
    "version": 3
   },
   "file_extension": ".py",
   "mimetype": "text/x-python",
   "name": "python",
   "nbconvert_exporter": "python",
   "pygments_lexer": "ipython3",
   "version": "3.7.4"
  },
  "toc": {
   "base_numbering": 1,
   "nav_menu": {},
   "number_sections": true,
   "sideBar": true,
   "skip_h1_title": false,
   "title_cell": "Table of Contents",
   "title_sidebar": "Contents",
   "toc_cell": false,
   "toc_position": {},
   "toc_section_display": true,
   "toc_window_display": false
  }
 },
 "nbformat": 4,
 "nbformat_minor": 2
}
